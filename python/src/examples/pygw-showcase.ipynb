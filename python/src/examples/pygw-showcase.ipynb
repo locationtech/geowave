{
 "cells": [
  {
   "cell_type": "markdown",
   "metadata": {},
   "source": [
    "# PyGw Showcase\n",
    "\n",
    "This notebook demonstrates the some of the utility provided by the `pygw` python package.\n",
    "\n",
    "In this guide, we will show how you can use `pygw` to easily:\n",
    "- **Define** a data schema for Geotools SimpleFeature/Vector data (aka create a new data type)\n",
    "- **Create** instances for the new type\n",
    "- **Create** a GeoWave Data Store\n",
    "- **Register** a DataType Adapter & Index to the data store for your new data type\n",
    "- **Ingest** user-created data into the GeoWave Data Store\n",
    "- **Query** data out of the data store\n",
    "\n",
    "To make this guide more interesting, we will be playing with this toy-data set from Kaggle on [Boston Public School buildings](https://www.kaggle.com/crawford/boston-public-schools/version/2)"
   ]
  },
  {
   "cell_type": "markdown",
   "metadata": {},
   "source": [
    "### Installation\n",
    "We can use `pip` to install `pygw`!"
   ]
  },
  {
   "cell_type": "code",
   "execution_count": null,
   "metadata": {},
   "outputs": [],
   "source": [
    "# Install pygw\n",
    "!pip install ../main/python/"
   ]
  },
  {
   "cell_type": "markdown",
   "metadata": {},
   "source": [
    "### Importing pygw"
   ]
  },
  {
   "cell_type": "code",
   "execution_count": null,
   "metadata": {},
   "outputs": [],
   "source": [
    "import pygw\n",
    "\n",
    "# --- Importing Relevant Modules ---\n",
    "# Data Stores module\n",
    "import pygw.stores\n",
    "# Index module\n",
    "import pygw.indices\n",
    "# Geotools support\n",
    "import pygw.geotools\n",
    "# Query module\n",
    "import pygw.query"
   ]
  },
  {
   "cell_type": "markdown",
   "metadata": {},
   "source": [
    "### Loading the Boston Public Schools Data Set"
   ]
  },
  {
   "cell_type": "code",
   "execution_count": null,
   "metadata": {},
   "outputs": [],
   "source": [
    "import csv\n",
    "\n",
    "with open(\"public_schools.csv\", encoding='utf-8-sig') as f:\n",
    "    reader = csv.DictReader(f)\n",
    "    raw_data = [row for row in reader]"
   ]
  },
  {
   "cell_type": "code",
   "execution_count": null,
   "metadata": {},
   "outputs": [],
   "source": [
    "# Let's take a look at what the data looks like\n",
    "raw_data[0]"
   ]
  },
  {
   "cell_type": "markdown",
   "metadata": {},
   "source": [
    "For the purposes of this exercise, let's just look at the `ADDRESS`, `X`, `Y`, and `BLDG_NAME` properties of each datapoint."
   ]
  },
  {
   "cell_type": "markdown",
   "metadata": {},
   "source": [
    "### Creating a new SimpleFeature data type for the Boston Public Schools Data Set\n",
    "\n",
    "We can define a data schema for our needs & create an appropriate `SimpleFeatureType`. The `SimpleFeatureType` constructor takes in varargs for the kinds of attributes we want our type to have.\n",
    "\n",
    "We can easily create these with data-type specific convenience methods for constructing Attributes like `SimpleFeatureTypeAttribute.string`"
   ]
  },
  {
   "cell_type": "code",
   "execution_count": null,
   "metadata": {},
   "outputs": [],
   "source": [
    "from pygw.geotools import SimpleFeatureType as SFT\n",
    "from pygw.geotools import SimpleFeatureTypeAttribute as SFTAttr\n",
    "\n",
    "# Creating the Data Type for Public Schools data\n",
    "pub_school_dt = SFT(\"public_schools\",\n",
    "                    SFTAttr.string(False, \"building_name\"),\n",
    "                    SFTAttr.string(False, \"address\"),\n",
    "                    SFTAttr.geometry(False, \"coordinates\"))  # Let's group X and Y as a coordinate"
   ]
  },
  {
   "cell_type": "markdown",
   "metadata": {},
   "source": [
    "### Creating features for each data point using our new SimpleFeatureType\n",
    "\n",
    "PyGw allows you to create `SimpleFeature` instances straight from a `SimpleFeatureType`. We can use the `SimpleFeatureType.create_feature` method to do so easily!\n",
    "\n",
    "`SimpleFeatureType.create_feature` takes in an `id` and `kwargs` corresponding to the attribute descriptions associated with the type when we first created it.\n"
   ]
  },
  {
   "cell_type": "code",
   "execution_count": null,
   "metadata": {},
   "outputs": [],
   "source": [
    "features = []\n",
    "for bldg in raw_data:\n",
    "    \n",
    "    data_id = int(bldg[\"BLDG_ID\"])\n",
    "    addr = bldg[\"ADDRESS\"]\n",
    "    name = bldg[\"BLDG_NAME\"]\n",
    "    coords = (float(bldg[\"X\"]), float(bldg[\"Y\"]))\n",
    "    \n",
    "    ft = pub_school_dt.create_feature(data_id, building_name=name, address=addr, coordinates=coords)\n",
    "    \n",
    "    features.append(ft)"
   ]
  },
  {
   "cell_type": "markdown",
   "metadata": {},
   "source": [
    "### Creating a Data Store\n",
    "\n",
    "Let's now create a Data Store to ingest our data. A simple one we can use for this example is `RocksDbDs`."
   ]
  },
  {
   "cell_type": "code",
   "execution_count": null,
   "metadata": {},
   "outputs": [],
   "source": [
    "store = pygw.stores.RocksDbDs(gw_namespace=\"pygw.boston_schools.example\", dir=\"./schools\")"
   ]
  },
  {
   "cell_type": "markdown",
   "metadata": {},
   "source": [
    "#### An aside: `help()`\n",
    "\n",
    "Much of `pygw` is well-documented, and the `help` method in python can be useful for figuring out what a pygw instance can do. Let's try it out on our `store`."
   ]
  },
  {
   "cell_type": "code",
   "execution_count": null,
   "metadata": {},
   "outputs": [],
   "source": [
    "help(store)"
   ]
  },
  {
   "cell_type": "markdown",
   "metadata": {},
   "source": [
    "### Registering our Data Type to the data store\n",
    "\n",
    "To store data into our data store, we first have to register a `DataTypeAdapter` and designate an `Index` to put our data into."
   ]
  },
  {
   "cell_type": "code",
   "execution_count": null,
   "metadata": {},
   "outputs": [],
   "source": [
    "# We provide a convenience method to get the type adapter straight from the SimpleFeatureType!\n",
    "pub_school_adapter = pub_school_dt.get_type_adapter()"
   ]
  },
  {
   "cell_type": "code",
   "execution_count": null,
   "metadata": {},
   "outputs": [],
   "source": [
    "# We want to index by coordinates so we want a spatial index\n",
    "index = pygw.indices.SpatialIndex()"
   ]
  },
  {
   "cell_type": "code",
   "execution_count": null,
   "metadata": {},
   "outputs": [],
   "source": [
    "# Add our type to our data store\n",
    "store.add_type(pub_school_adapter, index)"
   ]
  },
  {
   "cell_type": "code",
   "execution_count": null,
   "metadata": {},
   "outputs": [],
   "source": [
    "# Check that we've successfully registered an index and type\n",
    "store.get_types()"
   ]
  },
  {
   "cell_type": "code",
   "execution_count": null,
   "metadata": {},
   "outputs": [],
   "source": [
    "store.get_indices()"
   ]
  },
  {
   "cell_type": "markdown",
   "metadata": {},
   "source": [
    "### Writing data to our store"
   ]
  },
  {
   "cell_type": "code",
   "execution_count": null,
   "metadata": {},
   "outputs": [],
   "source": [
    "# Create a writer for our data\n",
    "writer = store.create_writer(pub_school_dt.get_name())"
   ]
  },
  {
   "cell_type": "code",
   "execution_count": null,
   "metadata": {},
   "outputs": [],
   "source": [
    "# Writing data to the data store\n",
    "for ft in features:\n",
    "    writer.write(ft)"
   ]
  },
  {
   "cell_type": "code",
   "execution_count": null,
   "metadata": {},
   "outputs": [],
   "source": [
    "writer.close()"
   ]
  },
  {
   "cell_type": "markdown",
   "metadata": {},
   "source": [
    "### Querying our store to make sure the data was ingested properly"
   ]
  },
  {
   "cell_type": "code",
   "execution_count": null,
   "metadata": {},
   "outputs": [],
   "source": [
    "from pygw.query import Query\n",
    "\n",
    "# `Query.everything` is a convenience method for creating an 'Everything` query\n",
    "results = store.query(Query.everything())"
   ]
  },
  {
   "cell_type": "code",
   "execution_count": null,
   "metadata": {},
   "outputs": [],
   "source": [
    "# The results returned above was an interator, so let's convert to a list\n",
    "results = [r for r in results]"
   ]
  },
  {
   "cell_type": "code",
   "execution_count": null,
   "metadata": {},
   "outputs": [],
   "source": [
    "# Do we have anything\"?\n",
    "len(results)"
   ]
  },
  {
   "cell_type": "markdown",
   "metadata": {},
   "source": [
    "Unfortunately pretty `pygw` wrapping of returned results from a query is not yet supported. However, we can use the `pygw.debug.print_obj` method to see what things look like:"
   ]
  },
  {
   "cell_type": "code",
   "execution_count": null,
   "metadata": {},
   "outputs": [],
   "source": [
    "from pygw.debug import print_obj"
   ]
  },
  {
   "cell_type": "code",
   "execution_count": null,
   "metadata": {},
   "outputs": [],
   "source": [
    "print_obj(results[0])"
   ]
  },
  {
   "cell_type": "markdown",
   "metadata": {},
   "source": [
    "### Something more interesting...\n",
    "Woo-hoo! We've successfully ingested our custom data into our data store. That's cool, but now what? ... Can `pygw` do more?\n",
    "\n",
    "Let's say we wanted to get retrieve only the public school buildings in East Boston -- How would we go about doing that? For the purposes of this, let's just say we want schools to the East of Franklin Park Zoo, which has coordinates:\n",
    "`42.3055° N, 71.0900° W` --> `(-71.0900, 42.3055)`"
   ]
  },
  {
   "cell_type": "code",
   "execution_count": null,
   "metadata": {},
   "outputs": [],
   "source": [
    "# A CQL query for things east of the zoo\n",
    "cql_query_string = \"BBOX(coordinates,-71.0900,-180,180,180)\""
   ]
  },
  {
   "cell_type": "code",
   "execution_count": null,
   "metadata": {},
   "outputs": [],
   "source": [
    "# Getting the results iterable\n",
    "results = store.query(Query.cql(cql_query_string))"
   ]
  },
  {
   "cell_type": "code",
   "execution_count": null,
   "metadata": {},
   "outputs": [],
   "source": [
    "# list of results\n",
    "results = [r for r in results]"
   ]
  },
  {
   "cell_type": "code",
   "execution_count": null,
   "metadata": {},
   "outputs": [],
   "source": [
    "# Less than before!\n",
    "len(results)"
   ]
  },
  {
   "cell_type": "code",
   "execution_count": null,
   "metadata": {},
   "outputs": [],
   "source": [
    "print_obj(results[0])"
   ]
  },
  {
   "cell_type": "markdown",
   "metadata": {},
   "source": [
    "Let's say we still want to query for buildings to the East of the zoo, but also we only want to find buildings that exist on \"Avenue\"s. We can do that!"
   ]
  },
  {
   "cell_type": "code",
   "execution_count": null,
   "metadata": {},
   "outputs": [],
   "source": [
    "cql_query_string = \"BBOX(coordinates,-71.0900,-180,180,180) and address like '%Avenue'\""
   ]
  },
  {
   "cell_type": "code",
   "execution_count": null,
   "metadata": {},
   "outputs": [],
   "source": [
    "# Getting the results iterable\n",
    "results = store.query(Query.cql(cql_query_string))\n",
    "results = [r for r in results]\n",
    "len(results)"
   ]
  },
  {
   "cell_type": "code",
   "execution_count": null,
   "metadata": {},
   "outputs": [],
   "source": [
    "print_obj(results[0])"
   ]
  },
  {
   "cell_type": "code",
   "execution_count": null,
   "metadata": {},
   "outputs": [],
   "source": [
    "# DELETE EVERYTHING\n",
    "store.delete_all()"
   ]
  },
  {
   "cell_type": "code",
   "execution_count": null,
   "metadata": {},
   "outputs": [],
   "source": []
  }
 ],
 "metadata": {
  "kernelspec": {
   "display_name": "Python 3",
   "language": "python",
   "name": "python3"
  },
  "language_info": {
   "codemirror_mode": {
    "name": "ipython",
    "version": 3
   },
   "file_extension": ".py",
   "mimetype": "text/x-python",
   "name": "python",
   "nbconvert_exporter": "python",
   "pygments_lexer": "ipython3",
   "version": "3.5.2"
  }
 },
 "nbformat": 4,
 "nbformat_minor": 2
}
