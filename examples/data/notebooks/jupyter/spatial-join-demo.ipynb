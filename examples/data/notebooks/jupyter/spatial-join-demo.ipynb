{
 "cells": [
  {
   "cell_type": "code",
   "execution_count": null,
   "metadata": {
    "collapsed": true
   },
   "outputs": [],
   "source": [
    "import pixiedust"
   ]
  },
  {
   "cell_type": "code",
   "execution_count": null,
   "metadata": {
    "collapsed": true
   },
   "outputs": [],
   "source": [
    "pixiedust.enableJobMonitor()"
   ]
  },
  {
   "cell_type": "code",
   "execution_count": null,
   "metadata": {
    "collapsed": true
   },
   "outputs": [],
   "source": [
    "# Print Spark info and create sql_context\n",
    "print('Spark Version: {0}'.format(sc.version))\n",
    "print('Python Version: {0}'.format(sc.pythonVer))\n",
    "print('Application Name: {0}'.format(sc.appName))\n",
    "print('Application ID: {0}'.format(sc.applicationId))\n",
    "print('Spark Master: {0}'.format( sc.master))\n",
    "\n",
    "sql_context = SQLContext(sc, sparkSession=spark)"
   ]
  },
  {
   "cell_type": "code",
   "execution_count": null,
   "metadata": {
    "collapsed": true
   },
   "outputs": [],
   "source": [
    "%%bash\n",
    "s3-dist-cp -D mapreduce.task.timeout=60000000 --src=s3://geowave-gpx-data/gpx --dest=hdfs://$HOSTNAME:8020/tmp/ "
   ]
  },
  {
   "cell_type": "code",
   "execution_count": null,
   "metadata": {
    "collapsed": true
   },
   "outputs": [],
   "source": [
    "%%bash\n",
    "/opt/accumulo/bin/accumulo shell -u root -p secret -e \"importtable geowave.germany_gpx_SPATIAL_IDX /tmp/spatial\"\n",
    "/opt/accumulo/bin/accumulo shell -u root -p secret -e \"importtable geowave.germany_gpx_GEOWAVE_METADATA /tmp/metadata\""
   ]
  },
  {
   "cell_type": "code",
   "execution_count": null,
   "metadata": {
    "collapsed": true
   },
   "outputs": [],
   "source": [
    "%%bash\n",
    "# clear out potential old runs\n",
    "#geowave config rmstore germany_osm\n",
    "#geowave config rmstore germany_gpx_accumulo\n",
    "\n",
    "# configure geowave connection params for name stores \"germany_gpx_accumulo\" and \"kmeans_hbase\"\n",
    "#geowave config addstore germany_gpx_accumulo --gwNamespace geowave.germany_gpx -t accumulo --zookeeper $HOSTNAME:2181 --instance accumulo --user root --password secret\n",
    "#geowave config addstore germany_osm --gwNamespace geowave.germany_osm -t accumulo --zookeeper $HOSTNAME:2181 --instance accumulo --user root --password secret"
   ]
  },
  {
   "cell_type": "code",
   "execution_count": null,
   "metadata": {
    "collapsed": true
   },
   "outputs": [],
   "source": [
    "#grab classes from jvm\n",
    "accumulo_options_class = sc._jvm.mil.nga.giat.geowave.datastore.accumulo.operations.config.AccumuloRequiredOptions\n",
    "query_options_class = sc._jvm.mil.nga.giat.geowave.core.store.query.QueryOptions\n",
    "geowave_rdd_class = sc._jvm.mil.nga.giat.geowave.analytic.spark.GeoWaveRDD\n",
    "sf_df_class = sc._jvm.mil.nga.giat.geowave.analytic.spark.sparksql.SimpleFeatureDataFrame\n",
    "byte_array_class = sc._jvm.mil.nga.giat.geowave.core.index.ByteArrayId\n",
    "\n",
    "#grab classes for spatial join\n",
    "stage_command_class = sc._jvm.mil.nga.giat.geowave.cli.osm.operations.StageOSMToHDFSCommand\n",
    "ingest_command_class = sc._jvm.mil.nga.giat.geowave.cli.osm.operations.IngestOSMToHDFSCommand\n",
    "spatial_join_class = sc._jvm.mil.nga.giat.geowave.analytic.spark.spatial.SpatialJoin\n",
    "config_hdfs_command_class = sc._jvm.mil.nga.giat.geowave.mapreduce.operations.ConfigHDFSCommand\n",
    "config_options_class = sc._jvm.mil.nga.giat.geowave.core.cli.operations.config.options.ConfigOptions"
   ]
  },
  {
   "cell_type": "code",
   "execution_count": null,
   "metadata": {
    "collapsed": true
   },
   "outputs": [],
   "source": [
    "#setup input datastore\n",
    "input_store = accumulo_options_class()\n",
    "input_store.setInstance('accumulo')\n",
    "input_store.setUser('root')\n",
    "input_store.setPassword('secret')\n",
    "input_store.setZookeeper(os.environ['HOSTNAME'] + ':2181')\n",
    "input_store.setGeowaveNamespace('geowave.germany_gpx')\n",
    "\n",
    "#Setup osm datastore\n",
    "osm_store = accumulo_options_class()\n",
    "osm_store.setInstance('accumulo')\n",
    "osm_store.setUser('root')\n",
    "osm_store.setPassword('secret')\n",
    "osm_store.setZookeeper(os.environ['HOSTNAME'] + ':2181')\n",
    "osm_store.setGeowaveNamespace('geowave.germany_osm')\n",
    "\n",
    "input_store_plugin = input_store.createPluginOptions()\n",
    "osm_store_plugin = osm_store.createPluginOptions()"
   ]
  },
  {
   "cell_type": "code",
   "execution_count": null,
   "metadata": {
    "collapsed": true
   },
   "outputs": [],
   "source": [
    "input_file = \"file://~/germany-latest.osm.pbf\"\n",
    "hdfs_path = \"hdfs:///\"\n",
    "\n",
    "osm_stage_path = hdfs_path + \"osm_stage/\"\n",
    "\n",
    "config_file = ConfigOptions.getDefaultPropertyFile()\n",
    "operation_params = manual_operations_class()\n",
    "operation_params.getContext().put(ConfigOptions.PROPERTIES_FILE_CONTEXT, config_file)\n",
    "\n",
    "config_command = config_hdfs_command_class()\n",
    "config_command.setHdfsUrlParameter(hdfs_path)\n",
    "config_command.execute(operation_params)"
   ]
  },
  {
   "cell_type": "code",
   "execution_count": null,
   "metadata": {
    "collapsed": true
   },
   "outputs": [],
   "source": [
    "#Ingest OSM data for germany to accumulo\n",
    "stage = stage_command_class();\n",
    "stage.setParameters(input_file, osm_stage_path);\n",
    "stage.execute(operation_params);"
   ]
  },
  {
   "cell_type": "code",
   "execution_count": null,
   "metadata": {
    "collapsed": true
   },
   "outputs": [],
   "source": [
    "ingest = ingest_command_class();\n",
    "ingest.setParameters(hdfs_path, null);\n",
    "\n",
    "ingest.setInputStoreOptions(osm_store_plugin);\n",
    "\n",
    "ingest.getIngestOptions().setJobName(\"GermanyIngest\");\n",
    "\n",
    "#ingest nodes\n",
    "ingest.getIngestOptions().setMapperType(\"NODE\");\n",
    "ingest.execute(operation_params);\n",
    "\n",
    "#ingest ways\n",
    "ingest.getIngestOptions().setMapperType(\"WAY\");\n",
    "ingest.execute(operation_params);\n",
    "\n",
    "#ingest relations\n",
    "ingest.getIngestOptions().setMapperType(\"RELATION\");\n",
    "ingest.execute(operation_params);"
   ]
  },
  {
   "cell_type": "code",
   "execution_count": null,
   "metadata": {
    "collapsed": true
   },
   "outputs": [],
   "source": [
    "spatial_join = spatial_join_class()\n",
    "\n",
    "spatial_join.performJoin(sc.sc(),input_store_plugin, null, osm_store_plugin, null)"
   ]
  }
 ],
 "metadata": {
  "kernelspec": {
   "display_name": "Python with Pixiedust (Spark 2.2)",
   "language": "python",
   "name": "pythonwithpixiedustspark22"
  },
  "language_info": {
   "codemirror_mode": {
    "name": "ipython",
    "version": 3
   },
   "file_extension": ".py",
   "mimetype": "text/x-python",
   "name": "python",
   "nbconvert_exporter": "python",
   "pygments_lexer": "ipython3",
   "version": "3.5.4"
  }
 },
 "nbformat": 4,
 "nbformat_minor": 2
}
